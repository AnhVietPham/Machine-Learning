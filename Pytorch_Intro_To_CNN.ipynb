{
  "nbformat": 4,
  "nbformat_minor": 0,
  "metadata": {
    "colab": {
      "name": "Pytorch - Intro-To-CNN.ipynb",
      "provenance": [],
      "authorship_tag": "ABX9TyMUupzNdh3kiH14SS6Uxqs9",
      "include_colab_link": true
    },
    "kernelspec": {
      "name": "python3",
      "display_name": "Python 3"
    },
    "language_info": {
      "name": "python"
    }
  },
  "cells": [
    {
      "cell_type": "markdown",
      "metadata": {
        "id": "view-in-github",
        "colab_type": "text"
      },
      "source": [
        "<a href=\"https://colab.research.google.com/github/AnhVietPham/Machine-Learning/blob/main/Pytorch_Intro_To_CNN.ipynb\" target=\"_parent\"><img src=\"https://colab.research.google.com/assets/colab-badge.svg\" alt=\"Open In Colab\"/></a>"
      ]
    },
    {
      "cell_type": "markdown",
      "metadata": {
        "id": "wGLft9zHUwqU"
      },
      "source": [
        "# **Pytorch [Basics] — Intro to CNN**\n",
        "https://towardsdatascience.com/pytorch-basics-how-to-train-your-neural-net-intro-to-cnn-26a14c2ea29"
      ]
    },
    {
      "cell_type": "code",
      "metadata": {
        "id": "oaP8-393UsAg"
      },
      "source": [
        "import numpy as np\n",
        "\n",
        "import torch\n",
        "import torch.nn as nn\n",
        "import torch.optim as optim\n",
        "from torch.utils.data import Dataset, DataLoader"
      ],
      "execution_count": 1,
      "outputs": []
    },
    {
      "cell_type": "code",
      "metadata": {
        "colab": {
          "base_uri": "https://localhost:8080/"
        },
        "id": "RNjNc1vYVmNy",
        "outputId": "8c3a726a-4e3e-487a-ea35-f89af16a57ee"
      },
      "source": [
        "input_1D = torch.tensor([1, 2, 3, 4, 5, 6, 7, 8, 9, 10], dtype = torch.float)\n",
        "\n",
        "input_2D = torch.tensor([\n",
        "                         [1, 2, 3, 4, 5], \n",
        "                         [6, 7, 8, 9, 10]\n",
        "                         ], \n",
        "                        dtype = torch.float)\n",
        "\n",
        "input_2D_image = torch.tensor([[\n",
        "                                [1, 2, 3, 4, 5, 6, 7, 8, 9, 10], \n",
        "                                [1, 2, 3, 4, 5, 6, 7, 8, 9, 10], \n",
        "                                [1, 2, 3, 4, 5, 6, 7, 8, 9, 10]], \n",
        "                               [[1, 2, 3, 4, 5, 6, 7, 8, 9, 10], \n",
        "                                [1, 2, 3, 4, 5, 6, 7, 8, 9, 10], \n",
        "                                [1, 2, 3, 4, 5, 6, 7, 8, 9, 10]], \n",
        "                               [[1, 2, 3, 4, 5, 6, 7, 8, 9, 10], \n",
        "                                [1, 2, 3, 4, 5, 6, 7, 8, 9, 10], \n",
        "                                [1, 2, 3, 4, 5, 6, 7, 8, 9, 10]]], \n",
        "                              dtype = torch.float)\n",
        "\n",
        "print(\"===============Output================\")\n",
        "print(f\"input_1D size: {input_1D.shape}\")\n",
        "print(input_1D)\n",
        "print(f\"input_2D size: {input_2D.shape}\")\n",
        "print(input_2D)\n",
        "print(f\"input_2D_image size: {input_2D_image.shape}\")\n",
        "print(input_2D_image)"
      ],
      "execution_count": 44,
      "outputs": [
        {
          "output_type": "stream",
          "text": [
            "===============Output================\n",
            "input_1D size: torch.Size([10])\n",
            "tensor([ 1.,  2.,  3.,  4.,  5.,  6.,  7.,  8.,  9., 10.])\n",
            "input_2D size: torch.Size([2, 5])\n",
            "tensor([[ 1.,  2.,  3.,  4.,  5.],\n",
            "        [ 6.,  7.,  8.,  9., 10.]])\n",
            "input_2D_image size: torch.Size([3, 3, 10])\n",
            "tensor([[[ 1.,  2.,  3.,  4.,  5.,  6.,  7.,  8.,  9., 10.],\n",
            "         [ 1.,  2.,  3.,  4.,  5.,  6.,  7.,  8.,  9., 10.],\n",
            "         [ 1.,  2.,  3.,  4.,  5.,  6.,  7.,  8.,  9., 10.]],\n",
            "\n",
            "        [[ 1.,  2.,  3.,  4.,  5.,  6.,  7.,  8.,  9., 10.],\n",
            "         [ 1.,  2.,  3.,  4.,  5.,  6.,  7.,  8.,  9., 10.],\n",
            "         [ 1.,  2.,  3.,  4.,  5.,  6.,  7.,  8.,  9., 10.]],\n",
            "\n",
            "        [[ 1.,  2.,  3.,  4.,  5.,  6.,  7.,  8.,  9., 10.],\n",
            "         [ 1.,  2.,  3.,  4.,  5.,  6.,  7.,  8.,  9., 10.],\n",
            "         [ 1.,  2.,  3.,  4.,  5.,  6.,  7.,  8.,  9., 10.]]])\n"
          ],
          "name": "stdout"
        }
      ]
    },
    {
      "cell_type": "markdown",
      "metadata": {
        "id": "ydg-QvOKdbFd"
      },
      "source": [
        "# **1D Convolution**"
      ]
    },
    {
      "cell_type": "markdown",
      "metadata": {
        "id": "1dwuyZef1UwN"
      },
      "source": [
        "# **Conv1d - Input 1d**"
      ]
    },
    {
      "cell_type": "code",
      "metadata": {
        "colab": {
          "base_uri": "https://localhost:8080/"
        },
        "id": "_odkoocvdakH",
        "outputId": "d2d0a59a-3f11-4a40-bc9e-cb7ffac25770"
      },
      "source": [
        "input_1D = input_1D.unsqueeze(0).unsqueeze(0)\n",
        "print(input_1D.shape)\n",
        "input_1D"
      ],
      "execution_count": 36,
      "outputs": [
        {
          "output_type": "stream",
          "text": [
            "torch.Size([1, 1, 10])\n"
          ],
          "name": "stdout"
        },
        {
          "output_type": "execute_result",
          "data": {
            "text/plain": [
              "tensor([[[ 1.,  2.,  3.,  4.,  5.,  6.,  7.,  8.,  9., 10.]]])"
            ]
          },
          "metadata": {
            "tags": []
          },
          "execution_count": 36
        }
      ]
    },
    {
      "cell_type": "code",
      "metadata": {
        "colab": {
          "base_uri": "https://localhost:8080/"
        },
        "id": "VAAQwD9Lr9Ca",
        "outputId": "21a35758-29bf-4dec-ccfb-739a2e3a0e9c"
      },
      "source": [
        "cnn1d_1 = nn.Conv1d(in_channels=1, out_channels=1, kernel_size=3, stride=1)\n",
        "\n",
        "print(\"cnn1d_1: \\n\")\n",
        "print(cnn1d_1(input_1D).shape, \"\\n\")\n",
        "print(cnn1d_1(input_1D))"
      ],
      "execution_count": 29,
      "outputs": [
        {
          "output_type": "stream",
          "text": [
            "cnn1d_1: \n",
            "\n",
            "torch.Size([1, 1, 8]) \n",
            "\n",
            "tensor([[[-0.2565, -0.1887, -0.1209, -0.0531,  0.0147,  0.0825,  0.1504,\n",
            "           0.2182]]], grad_fn=<SqueezeBackward1>)\n"
          ],
          "name": "stdout"
        }
      ]
    },
    {
      "cell_type": "code",
      "metadata": {
        "colab": {
          "base_uri": "https://localhost:8080/"
        },
        "id": "A9THv1cL029m",
        "outputId": "1bd32c49-208e-4a8b-bdcd-f64c373e4913"
      },
      "source": [
        "cnn1d_2 = nn.Conv1d(in_channels=1, out_channels=1, kernel_size=3, stride=2)\n",
        "print(\"cnn1d_2: \\n\")\n",
        "print(cnn1d_2(input_1D).shape, \"\\n\")\n",
        "print(cnn1d_2(input_1D))"
      ],
      "execution_count": 37,
      "outputs": [
        {
          "output_type": "stream",
          "text": [
            "cnn1d_2: \n",
            "\n",
            "torch.Size([1, 1, 4]) \n",
            "\n",
            "tensor([[[0.8065, 1.4384, 2.0703, 2.7022]]], grad_fn=<SqueezeBackward1>)\n"
          ],
          "name": "stdout"
        }
      ]
    },
    {
      "cell_type": "code",
      "metadata": {
        "colab": {
          "base_uri": "https://localhost:8080/"
        },
        "id": "HJToIo5z1eWi",
        "outputId": "30476a32-e249-4f68-b3b2-122cc74d9248"
      },
      "source": [
        "cnn1d_3 = nn.Conv1d(in_channels=1, out_channels=1, kernel_size=2, stride=1)\n",
        "print(\"cnn1d_2: \\n\")\n",
        "print(cnn1d_3(input_1D).shape, \"\\n\")\n",
        "print(cnn1d_3(input_1D))"
      ],
      "execution_count": 38,
      "outputs": [
        {
          "output_type": "stream",
          "text": [
            "cnn1d_2: \n",
            "\n",
            "torch.Size([1, 1, 9]) \n",
            "\n",
            "tensor([[[-1.0938, -2.0468, -2.9997, -3.9527, -4.9057, -5.8586, -6.8116,\n",
            "          -7.7645, -8.7175]]], grad_fn=<SqueezeBackward1>)\n"
          ],
          "name": "stdout"
        }
      ]
    },
    {
      "cell_type": "code",
      "metadata": {
        "colab": {
          "base_uri": "https://localhost:8080/"
        },
        "id": "lVLcXqQh11o1",
        "outputId": "c89c84bd-1b23-4db3-9ec3-718db160f570"
      },
      "source": [
        "cnn1d_4 = nn.Conv1d(in_channels=1, out_channels=5, kernel_size=3, stride=1)\n",
        "print(\"cnn1d_2: \\n\")\n",
        "print(cnn1d_4(input_1D).shape, \"\\n\")\n",
        "print(cnn1d_4(input_1D))"
      ],
      "execution_count": 41,
      "outputs": [
        {
          "output_type": "stream",
          "text": [
            "cnn1d_2: \n",
            "\n",
            "torch.Size([1, 5, 8]) \n",
            "\n",
            "tensor([[[ 2.8726,  4.3583,  5.8440,  7.3297,  8.8154, 10.3011, 11.7867,\n",
            "          13.2724],\n",
            "         [-0.0860, -0.3899, -0.6938, -0.9976, -1.3015, -1.6053, -1.9092,\n",
            "          -2.2130],\n",
            "         [-0.9040, -0.8340, -0.7640, -0.6940, -0.6240, -0.5540, -0.4840,\n",
            "          -0.4139],\n",
            "         [ 1.3774,  2.4401,  3.5027,  4.5654,  5.6281,  6.6908,  7.7535,\n",
            "           8.8162],\n",
            "         [ 0.8838,  1.5763,  2.2689,  2.9615,  3.6540,  4.3466,  5.0392,\n",
            "           5.7317]]], grad_fn=<SqueezeBackward1>)\n"
          ],
          "name": "stdout"
        }
      ]
    },
    {
      "cell_type": "markdown",
      "metadata": {
        "id": "qcayFXck39kv"
      },
      "source": [
        "# **Conv1d - Input 2d**"
      ]
    },
    {
      "cell_type": "code",
      "metadata": {
        "colab": {
          "base_uri": "https://localhost:8080/"
        },
        "id": "9uT55U424Ghy",
        "outputId": "ea4a58e1-2b40-4a29-91d6-eef699043f61"
      },
      "source": [
        "input_2D = input_2D.unsqueeze(0)\n",
        "print(input_2D)\n",
        "print(input_2D.shape)"
      ],
      "execution_count": 45,
      "outputs": [
        {
          "output_type": "stream",
          "text": [
            "tensor([[[ 1.,  2.,  3.,  4.,  5.],\n",
            "         [ 6.,  7.,  8.,  9., 10.]]])\n",
            "torch.Size([1, 2, 5])\n"
          ],
          "name": "stdout"
        }
      ]
    },
    {
      "cell_type": "code",
      "metadata": {
        "colab": {
          "base_uri": "https://localhost:8080/"
        },
        "id": "F82HyFGL4rwE",
        "outputId": "90be12b3-1484-47bb-9387-9441c3eda293"
      },
      "source": [
        "cnn1d_5 = nn.Conv1d(in_channels=2, out_channels=1, kernel_size=3, stride=1)\n",
        "print(\"cnn1d_5: \\n\")\n",
        "print(cnn1d_5(input_2D).shape, \"\\n\")\n",
        "print(cnn1d_5(input_2D))"
      ],
      "execution_count": 46,
      "outputs": [
        {
          "output_type": "stream",
          "text": [
            "cnn1d_5: \n",
            "\n",
            "torch.Size([1, 1, 3]) \n",
            "\n",
            "tensor([[[-2.2745, -2.6462, -3.0180]]], grad_fn=<SqueezeBackward1>)\n"
          ],
          "name": "stdout"
        }
      ]
    },
    {
      "cell_type": "code",
      "metadata": {
        "colab": {
          "base_uri": "https://localhost:8080/"
        },
        "id": "Vo-aOcc35Lop",
        "outputId": "7e88f738-0804-4612-919d-efb7e476206e"
      },
      "source": [
        "cnn1d_6 = nn.Conv1d(in_channels=2, out_channels=1, kernel_size=3, stride=2)\n",
        "print(\"cnn1d_6: \\n\")\n",
        "print(cnn1d_6(input_2D).shape, \"\\n\")\n",
        "print(cnn1d_6(input_2D))"
      ],
      "execution_count": 48,
      "outputs": [
        {
          "output_type": "stream",
          "text": [
            "cnn1d_6: \n",
            "\n",
            "torch.Size([1, 1, 2]) \n",
            "\n",
            "tensor([[[-1.2960, -1.7628]]], grad_fn=<SqueezeBackward1>)\n"
          ],
          "name": "stdout"
        }
      ]
    },
    {
      "cell_type": "code",
      "metadata": {
        "colab": {
          "base_uri": "https://localhost:8080/"
        },
        "id": "5GtTwYhT5VSK",
        "outputId": "a82a230b-d52a-4945-a8fd-5448c690653d"
      },
      "source": [
        "cnn1d_7 = nn.Conv1d(in_channels=2, out_channels=1, kernel_size=2, stride=1)\n",
        "print(\"cnn1d_7: \\n\")\n",
        "print(cnn1d_7(input_2D).shape, \"\\n\")\n",
        "print(cnn1d_7(input_2D))"
      ],
      "execution_count": 49,
      "outputs": [
        {
          "output_type": "stream",
          "text": [
            "cnn1d_7: \n",
            "\n",
            "torch.Size([1, 1, 4]) \n",
            "\n",
            "tensor([[[0.5183, 0.8004, 1.0826, 1.3647]]], grad_fn=<SqueezeBackward1>)\n"
          ],
          "name": "stdout"
        }
      ]
    },
    {
      "cell_type": "code",
      "metadata": {
        "colab": {
          "base_uri": "https://localhost:8080/"
        },
        "id": "9FFV6Q1c5e1r",
        "outputId": "3172d967-0361-454c-e92d-b1626771e14e"
      },
      "source": [
        "cnn1d_8 = nn.Conv1d(in_channels=2, out_channels=5, kernel_size=3, stride=1)\n",
        "print(\"cnn1d_8: \\n\")\n",
        "print(cnn1d_8(input_2D).shape, \"\\n\")\n",
        "print(cnn1d_8(input_2D))"
      ],
      "execution_count": 50,
      "outputs": [
        {
          "output_type": "stream",
          "text": [
            "cnn1d_8: \n",
            "\n",
            "torch.Size([1, 5, 3]) \n",
            "\n",
            "tensor([[[-0.1121,  0.1713,  0.4546],\n",
            "         [ 0.2283,  0.2956,  0.3628],\n",
            "         [ 3.9839,  4.1527,  4.3216],\n",
            "         [ 0.7778,  1.1358,  1.4938],\n",
            "         [-0.7759, -0.8898, -1.0038]]], grad_fn=<SqueezeBackward1>)\n"
          ],
          "name": "stdout"
        }
      ]
    },
    {
      "cell_type": "markdown",
      "metadata": {
        "id": "nNNx84l87eI9"
      },
      "source": [
        "# **2D Convolution**"
      ]
    },
    {
      "cell_type": "code",
      "metadata": {
        "colab": {
          "base_uri": "https://localhost:8080/"
        },
        "id": "GkQkpwE57doE",
        "outputId": "bd8a4a6a-8206-461a-bb53-d3f1e0c891fe"
      },
      "source": [
        "input_2D_image = input_2D_image.unsqueeze(0)\n",
        "input_2D_image.shape"
      ],
      "execution_count": 51,
      "outputs": [
        {
          "output_type": "execute_result",
          "data": {
            "text/plain": [
              "torch.Size([1, 3, 3, 10])"
            ]
          },
          "metadata": {
            "tags": []
          },
          "execution_count": 51
        }
      ]
    },
    {
      "cell_type": "code",
      "metadata": {
        "colab": {
          "base_uri": "https://localhost:8080/"
        },
        "id": "yY3fJfAQCFER",
        "outputId": "d44136bf-62be-44d3-b670-76e8c473fb6f"
      },
      "source": [
        "cnn2d_1 = nn.Conv2d(in_channels=3, out_channels=1, kernel_size=3, stride=1)\n",
        "\n",
        "print(\"cnn2d_1: \\n\")\n",
        "print(cnn2d_1(input_2D_image).shape, \"\\n\")\n",
        "print(cnn2d_1(input_2D_image))"
      ],
      "execution_count": 53,
      "outputs": [
        {
          "output_type": "stream",
          "text": [
            "cnn2d_1: \n",
            "\n",
            "torch.Size([1, 1, 1, 8]) \n",
            "\n",
            "tensor([[[[0.3402, 0.8128, 1.2855, 1.7581, 2.2308, 2.7034, 3.1761, 3.6487]]]],\n",
            "       grad_fn=<ThnnConv2DBackward>)\n"
          ],
          "name": "stdout"
        }
      ]
    },
    {
      "cell_type": "code",
      "metadata": {
        "colab": {
          "base_uri": "https://localhost:8080/"
        },
        "id": "T8J61QiSCH1d",
        "outputId": "fe0447db-6763-4a15-d47d-5ddd1bab39f3"
      },
      "source": [
        "cnn2d_1 = nn.Conv2d(in_channels=3, out_channels=1, kernel_size=3, stride=2)\n",
        "\n",
        "print(\"cnn2d_1: \\n\")\n",
        "print(cnn2d_1(input_2D_image).shape, \"\\n\")\n",
        "print(cnn2d_1(input_2D_image))"
      ],
      "execution_count": 54,
      "outputs": [
        {
          "output_type": "stream",
          "text": [
            "cnn2d_1: \n",
            "\n",
            "torch.Size([1, 1, 1, 4]) \n",
            "\n",
            "tensor([[[[0.4484, 1.1495, 1.8507, 2.5518]]]], grad_fn=<ThnnConv2DBackward>)\n"
          ],
          "name": "stdout"
        }
      ]
    }
  ]
}