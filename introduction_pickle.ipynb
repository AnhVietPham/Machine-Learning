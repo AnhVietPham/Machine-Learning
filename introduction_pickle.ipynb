{
  "nbformat": 4,
  "nbformat_minor": 0,
  "metadata": {
    "anaconda-cloud": {},
    "celltoolbar": "Raw Cell Format",
    "kernelspec": {
      "display_name": "Python 3",
      "language": "python",
      "name": "python3"
    },
    "language_info": {
      "codemirror_mode": {
        "name": "ipython",
        "version": 3
      },
      "file_extension": ".py",
      "mimetype": "text/x-python",
      "name": "python",
      "nbconvert_exporter": "python",
      "pygments_lexer": "ipython3",
      "version": "3.7.3"
    },
    "colab": {
      "name": "Copy of introduction_pickle.ipynb",
      "provenance": [],
      "include_colab_link": true
    }
  },
  "cells": [
    {
      "cell_type": "markdown",
      "metadata": {
        "id": "view-in-github",
        "colab_type": "text"
      },
      "source": [
        "<a href=\"https://colab.research.google.com/github/AnhVietPham/Machine-Learning/blob/main/introduction_pickle.ipynb\" target=\"_parent\"><img src=\"https://colab.research.google.com/assets/colab-badge.svg\" alt=\"Open In Colab\"/></a>"
      ]
    },
    {
      "cell_type": "markdown",
      "metadata": {
        "id": "7P2Z9BkUyHr7"
      },
      "source": [
        "![NASA](http://www.nasa.gov/sites/all/themes/custom/nasatwo/images/nasa-logo.svg)\n",
        "\n",
        "<center>\n",
        "<h1><font size=\"+3\">GSFC Python Bootcamp</font></h1>\n",
        "</center>\n",
        "\n",
        "---\n",
        "<center>\n",
        "<H1 style=\"color:red\">\n",
        "Serialization and Deserialization with pickle\n",
        "</H1>\n",
        "</center>\n"
      ]
    },
    {
      "cell_type": "code",
      "metadata": {
        "id": "StQRVxZIyHsA"
      },
      "source": [
        "from __future__ import print_function"
      ],
      "execution_count": null,
      "outputs": []
    },
    {
      "cell_type": "markdown",
      "metadata": {
        "id": "h5tbf4lUyHsB"
      },
      "source": [
        "## <font color=\"red\"> Serialization and Deserialization</font>\n",
        "* **Serialization** is a process of transforming objects or data structures into byte streams or strings. \n",
        "* These byte streams can then be stored or transferred easily. \n",
        "* This allows the developers to save, for example, configuration data or user's progress, and then store it (on disk or in a database) or send it to another location.\n",
        "* The reverse process of serialization is known as **deserialization**."
      ]
    },
    {
      "cell_type": "markdown",
      "metadata": {
        "id": "JEtP44ckyHsB"
      },
      "source": [
        "## <font color=\"red\"> What is pickle?</font>\n",
        "\n",
        "* The module `pickle` is used for serializing and deserializing a Python object structure. \n",
        "* Any object in python can be pickled so that it can be saved on disk. \n",
        "* `pickle` “serialises” the object first before writing it to file. \n",
        "* Pickling (serialization) is a way to convert a python object (list, dict, etc.) into a character stream which contains all the information necessary to reconstruct the object in another python script.\n",
        "\n",
        "The following types can be serialized and deserialized using the `pickle` module:\n",
        "* All native datatypes supported by Python (booleans, None, integers, floats, complex numbers, strings, bytes, byte arrays)\n",
        "* Dictionaries, sets, lists, and tuples - as long as they contain pickleable objects\n",
        "* Functions (pickled by their name references, and not by their value) and classes that are defined at the top level of a module\n"
      ]
    },
    {
      "cell_type": "markdown",
      "metadata": {
        "id": "6c6vPKJByHsC"
      },
      "source": [
        "## <font color=\"red\">Applications of Pickling</font>\n",
        "\n",
        "* Saving a program's state data to disk so that it can carry on where it left off when restarted (persistence)\n",
        "* Sending python data over a TCP connection in a multi-core or distributed system (marshalling)\n",
        "* Storing python objects in a database\n",
        "* Converting an arbitrary python object to a string so that it can be used as a dictionary key (e.g. for caching & memoization)\n",
        "* Machine Learning (saving <a href=\"https://pythonprogramming.net/pickle-classifier-save-nltk-tutorial/\">trained ML algorithm</a>)"
      ]
    },
    {
      "cell_type": "markdown",
      "metadata": {
        "id": "qP8g9lSEyHsC"
      },
      "source": [
        "## <font color=\"red\">How to Use pickle</font>"
      ]
    },
    {
      "cell_type": "code",
      "metadata": {
        "id": "pQizOOblyHsC"
      },
      "source": [
        "import pickle"
      ],
      "execution_count": null,
      "outputs": []
    },
    {
      "cell_type": "markdown",
      "metadata": {
        "id": "5iqQuZ4UyHsD"
      },
      "source": [
        "The main functions of `pickle` are:\n",
        "\n",
        "* `dump()`: pickles data by accepting data and a file object.\n",
        "* `load()`: takes a file object, reconstruct the objects from the pickled representation, and returns it.\n",
        "* `dumps()`: returns the pickled data as a string.\n",
        "* `loads()`: reads the pickled data from a string.\n",
        "\n",
        "`dump()`/`load()` serializes/deserializes objects through files but `dumps()`/`loads()` serializes/deserializes objects through string representation."
      ]
    },
    {
      "cell_type": "markdown",
      "metadata": {
        "id": "Lz27a4l7yHsD"
      },
      "source": [
        "### Python Object Serialization\n",
        "\n",
        "The pickle module turns an arbitrary Python object into a series of bytes. This process is also called serialization. \n",
        "* Useful for storing data\n",
        "* Inter process communication"
      ]
    },
    {
      "cell_type": "code",
      "metadata": {
        "id": "OrKTUladyHsD"
      },
      "source": [
        "data_org = { 'a':'A', 'b':2, 'c':3.0 } \n",
        "print('DATA:', data_org)"
      ],
      "execution_count": null,
      "outputs": []
    },
    {
      "cell_type": "markdown",
      "metadata": {
        "id": "5AQE5LO3yHsD"
      },
      "source": [
        "The `dumps()` function creates a string representation of the value of the object."
      ]
    },
    {
      "cell_type": "code",
      "metadata": {
        "id": "8qTap8xdyHsE"
      },
      "source": [
        "data_string = pickle.dumps(data_org)\n",
        "print('PICKLE:', data_string )"
      ],
      "execution_count": null,
      "outputs": []
    },
    {
      "cell_type": "markdown",
      "metadata": {
        "id": "oaN1sCCyyHsE"
      },
      "source": [
        "By default, the pickle will contain only ASCII characters. "
      ]
    },
    {
      "cell_type": "markdown",
      "metadata": {
        "id": "ldCc41KYyHsE"
      },
      "source": [
        "### Python Object Deserialization\n",
        "\n",
        "* Once the data is serialized, you can write it to a file, socket, pipe, etc. \n",
        "* Then later you can read the file and unpickle the data to construct a new object with the same values."
      ]
    },
    {
      "cell_type": "markdown",
      "metadata": {
        "id": "x2kKuhM-yHsE"
      },
      "source": [
        "**Get the data back from the serialized object**"
      ]
    },
    {
      "cell_type": "code",
      "metadata": {
        "id": "kKkZUxy3yHsE"
      },
      "source": [
        "print('BEFORE: ', data_org)"
      ],
      "execution_count": null,
      "outputs": []
    },
    {
      "cell_type": "markdown",
      "metadata": {
        "id": "LNwJQSLtyHsE"
      },
      "source": [
        "The `loads()` function reconstructs the objects from the pickled string representation."
      ]
    },
    {
      "cell_type": "code",
      "metadata": {
        "id": "a85v8ExjyHsF"
      },
      "source": [
        "data2 = pickle.loads(data_string)\n",
        "print('AFTER:  ',data2)"
      ],
      "execution_count": null,
      "outputs": []
    },
    {
      "cell_type": "code",
      "metadata": {
        "id": "GiYeeFMRyHsF"
      },
      "source": [
        "print('EQUAL?:', (data_org == data2))\n",
        "print('SAME ?:', (data_org is data2))"
      ],
      "execution_count": null,
      "outputs": []
    },
    {
      "cell_type": "markdown",
      "metadata": {
        "id": "zjq2fyrMyHsF"
      },
      "source": [
        "**Write pickled data to a file and Read the data back**"
      ]
    },
    {
      "cell_type": "markdown",
      "metadata": {
        "id": "pveQytbtyHsF"
      },
      "source": [
        "The `dump()` function serializes the data and writes it to the file."
      ]
    },
    {
      "cell_type": "code",
      "metadata": {
        "id": "nHw284AYyHsF"
      },
      "source": [
        "with open('pickled_data_file.pkl', 'wb') as fid:\n",
        "     pickle.dump(data_org, fid)"
      ],
      "execution_count": null,
      "outputs": []
    },
    {
      "cell_type": "markdown",
      "metadata": {
        "id": "jyti0SC5yHsF"
      },
      "source": [
        "The `load()` function takes a file object, reconstruct the objects from the pickled representation, and returns it."
      ]
    },
    {
      "cell_type": "code",
      "metadata": {
        "id": "ph1UuFSKyHsG"
      },
      "source": [
        "# Read the data from the file\n",
        "with open('pickled_data_file.pkl', 'rb') as fid:\n",
        "     data3 = pickle.load(fid)"
      ],
      "execution_count": null,
      "outputs": []
    },
    {
      "cell_type": "code",
      "metadata": {
        "id": "xtOW9AhoyHsG"
      },
      "source": [
        "print('Data Before Write:', data_org)\n",
        "print('Data After  Read :', data3)\n",
        "print('EQUAL?:', (data_org == data3))"
      ],
      "execution_count": null,
      "outputs": []
    },
    {
      "cell_type": "markdown",
      "metadata": {
        "id": "nK_rhWZsyHsG"
      },
      "source": [
        "### Pickling and Unpickling Custom Objects"
      ]
    },
    {
      "cell_type": "markdown",
      "metadata": {
        "id": "6NGJW90YyHsG"
      },
      "source": [
        "**Example 1**: Instance of a class"
      ]
    },
    {
      "cell_type": "code",
      "metadata": {
        "id": "b3P-zLIryHsG"
      },
      "source": [
        "class Planets:\n",
        "      def __init__(self, platnet_name, planet_size):\n",
        "          self.size = planet_size\n",
        "          self.name = platnet_name"
      ],
      "execution_count": null,
      "outputs": []
    },
    {
      "cell_type": "code",
      "metadata": {
        "id": "aBO5r07vyHsG"
      },
      "source": [
        "mercury = Planets('Mercury', 1516.0)"
      ],
      "execution_count": null,
      "outputs": []
    },
    {
      "cell_type": "markdown",
      "metadata": {
        "id": "1_-9_-72yHsH"
      },
      "source": [
        "* The file is opened in binary mode for writing. "
      ]
    },
    {
      "cell_type": "code",
      "metadata": {
        "id": "g0Xrd7VJyHsH"
      },
      "source": [
        "with open('pickle_instance.pkl', 'wb') as pickle_out:\n",
        "     pickle.dump(mercury, pickle_out)"
      ],
      "execution_count": null,
      "outputs": []
    },
    {
      "cell_type": "markdown",
      "metadata": {
        "id": "3o1_Lw7RyHsH"
      },
      "source": [
        "* The file is opened in binary mode for reading. "
      ]
    },
    {
      "cell_type": "code",
      "metadata": {
        "id": "oS6IdGynyHsH"
      },
      "source": [
        "with open('pickle_instance.pkl', 'rb') as pickle_in:\n",
        "     unpickled_mercury = pickle.load(pickle_in)"
      ],
      "execution_count": null,
      "outputs": []
    },
    {
      "cell_type": "code",
      "metadata": {
        "id": "IURZjrARyHsH"
      },
      "source": [
        "print(\"Name: \", unpickled_mercury.name)\n",
        "print(\"Size: \", unpickled_mercury.size)"
      ],
      "execution_count": null,
      "outputs": []
    },
    {
      "cell_type": "markdown",
      "metadata": {
        "id": "HTeiUbijyHsH"
      },
      "source": [
        "**Example 2**: Collection of objects"
      ]
    },
    {
      "cell_type": "code",
      "metadata": {
        "id": "PjxfLxe0yHsH"
      },
      "source": [
        "def my_func():\n",
        "    return \"my_func was called\""
      ],
      "execution_count": null,
      "outputs": []
    },
    {
      "cell_type": "code",
      "metadata": {
        "id": "OI3kPSOOyHsI"
      },
      "source": [
        "with open('pickle_objects.pkl', 'wb') as pickle_out:\n",
        "     # serialize class object\n",
        "     pickle.dump(Planets, pickle_out)\n",
        "     # serialize class instance\n",
        "     pickle.dump(Planets('Jupiter', 43441), pickle_out)\n",
        "     # serialize function object\n",
        "     pickle.dump(my_func, pickle_out)\n",
        "     # serialize complex number\n",
        "     pickle.dump(3.7 + 2.5j, pickle_out)\n",
        "     # serialize bytes object\n",
        "     pickle.dump(bytes([1, 2, 3, 4, 5]), pickle_out)"
      ],
      "execution_count": null,
      "outputs": []
    },
    {
      "cell_type": "markdown",
      "metadata": {
        "id": "shiXG2yjyHsI"
      },
      "source": [
        "* Objects are returned in the same order in which we have pickled them in the first place. \n",
        "* When there is no more data to return, the `load()` function throws `EOFError`."
      ]
    },
    {
      "cell_type": "code",
      "metadata": {
        "id": "xjufX7FpyHsI"
      },
      "source": [
        "with open('pickle_objects.pkl', 'rb') as pickle_in:\n",
        "     # deserialize class object\n",
        "     NewPlanets = pickle.load(pickle_in)\n",
        "     # deserialize class instance\n",
        "     new_jupiter = pickle.load(pickle_in)\n",
        "     # deserialize function object\n",
        "     new_func = pickle.load(pickle_in)\n",
        "     # deserialize complex number\n",
        "     new_complex = pickle.load(pickle_in)\n",
        "     # deserialize bytes object\n",
        "     new_byte = pickle.load(pickle_in)\n",
        "     pickle.load(pickle_in)"
      ],
      "execution_count": null,
      "outputs": []
    },
    {
      "cell_type": "markdown",
      "metadata": {
        "id": "7OIIDyqfyHsI"
      },
      "source": [
        "* Once you have unpickled the data you can use it like an ordinary Python object."
      ]
    },
    {
      "cell_type": "code",
      "metadata": {
        "id": "QWPgj5EKyHsJ"
      },
      "source": [
        "mercury = NewPlanets('Mercury', 1516.0)\n",
        "print(mercury.name, mercury.size)"
      ],
      "execution_count": null,
      "outputs": []
    },
    {
      "cell_type": "code",
      "metadata": {
        "id": "GiSLf65EyHsJ"
      },
      "source": [
        "print(new_jupiter.name, new_jupiter.size)"
      ],
      "execution_count": null,
      "outputs": []
    },
    {
      "cell_type": "code",
      "metadata": {
        "id": "5-KTVz_kyHsJ"
      },
      "source": [
        "new_func()"
      ],
      "execution_count": null,
      "outputs": []
    },
    {
      "cell_type": "code",
      "metadata": {
        "id": "aYIQarEuyHsJ"
      },
      "source": [
        "print(\"Complex Number: \", new_complex)\n",
        "print(\"Byte object: \", new_byte)"
      ],
      "execution_count": null,
      "outputs": []
    },
    {
      "cell_type": "markdown",
      "metadata": {
        "id": "49iCwI4eyHsJ"
      },
      "source": [
        "## <font color=\"red\">Conclusions</font>"
      ]
    },
    {
      "cell_type": "markdown",
      "metadata": {
        "id": "P8-AGX5oyHsJ"
      },
      "source": [
        "**Advantages**\n",
        "\n",
        "1. Helps in saving complicated data.\n",
        "2. Quite easy to use, doesn’t require several lines of code and hence not bulky.\n",
        "3. Saved data is not so readable hence provides some data security.\n",
        "\n",
        "**Disadvantages**\n",
        "\n",
        "1. Non-Python programs may not be able to reconstruct pickled Python objects.\n",
        "2. Security risks in unpickling data from malicious sources."
      ]
    },
    {
      "cell_type": "markdown",
      "metadata": {
        "id": "XBKiRXv2yHsK"
      },
      "source": [
        "**When to Pickle**\n",
        "\n",
        "* Pickling is useful for applications where you need some degree of persistency in your data. Your program's state data can be saved to disk, so you can continue working on it later on. \n",
        "* It can also be used to send data over a Transmission Control Protocol (TCP) or socket connection, or to store python objects in a database. \n",
        "* Pickle is very useful for when you're working with machine learning algorithms, where you want to save them to be able to make new predictions at a later time, without having to rewrite everything or train the model all over again.\n",
        "\n",
        "**When Not to Pickle**\n",
        "\n",
        "* If you want to use data across different programming languages, pickle is not recommended. Its protocol is specific to Python, thus, cross-language compatibility is not guaranteed. \n",
        "* The same holds for different versions of Python itself. Unpickling a file that was pickled in a different version of Python may not always work properly, so you have to make sure that you're using the same version and perform an update if necessary. \n",
        "* You should also try not to unpickle data from an untrusted source. Malicious code inside the file might be executed upon unpickling."
      ]
    },
    {
      "cell_type": "code",
      "metadata": {
        "id": "jN1V4-B4yHsK"
      },
      "source": [
        ""
      ],
      "execution_count": null,
      "outputs": []
    }
  ]
}