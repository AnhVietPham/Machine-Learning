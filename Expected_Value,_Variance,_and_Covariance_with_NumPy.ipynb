{
  "nbformat": 4,
  "nbformat_minor": 0,
  "metadata": {
    "colab": {
      "name": "Expected Value, Variance, and Covariance with NumPy.ipynb",
      "provenance": [],
      "collapsed_sections": [],
      "authorship_tag": "ABX9TyOUD7KaIHexkI5tQr/YHUYj",
      "include_colab_link": true
    },
    "kernelspec": {
      "name": "python3",
      "display_name": "Python 3"
    }
  },
  "cells": [
    {
      "cell_type": "markdown",
      "metadata": {
        "id": "view-in-github",
        "colab_type": "text"
      },
      "source": [
        "<a href=\"https://colab.research.google.com/github/AnhVietPham/Machine-Learning/blob/main/Expected_Value%2C_Variance%2C_and_Covariance_with_NumPy.ipynb\" target=\"_parent\"><img src=\"https://colab.research.google.com/assets/colab-badge.svg\" alt=\"Open In Colab\"/></a>"
      ]
    },
    {
      "cell_type": "markdown",
      "metadata": {
        "id": "7-t-PQLMwUEH"
      },
      "source": [
        "**Expected Value**"
      ]
    },
    {
      "cell_type": "code",
      "metadata": {
        "colab": {
          "base_uri": "https://localhost:8080/"
        },
        "id": "eDo7jVpCH1kX",
        "outputId": "0514d55d-ffae-4480-cb60-e2210ab8d3f0"
      },
      "source": [
        "\n",
        "from numpy import array\n",
        "from numpy import mean\n",
        "from numpy import var\n",
        "M = array([[1,2,3,4,5,6],[1,2,3,4,5,6]])\n",
        "print(M)\n",
        "col_mean = mean(M, axis=0)\n",
        "print(col_mean)\n",
        "row_mean = mean(M, axis=1)\n",
        "print(row_mean)"
      ],
      "execution_count": 4,
      "outputs": [
        {
          "output_type": "stream",
          "text": [
            "[[1 2 3 4 5 6]\n",
            " [1 2 3 4 5 6]]\n",
            "[1. 2. 3. 4. 5. 6.]\n",
            "[3.5 3.5]\n"
          ],
          "name": "stdout"
        }
      ]
    },
    {
      "cell_type": "markdown",
      "metadata": {
        "id": "vAmD5MBnwgfI"
      },
      "source": [
        "**Variance**\n"
      ]
    },
    {
      "cell_type": "code",
      "metadata": {
        "colab": {
          "base_uri": "https://localhost:8080/"
        },
        "id": "PXoDD0hlIO2j",
        "outputId": "9b9ecfa8-3bdc-4787-9590-c6b766044f27"
      },
      "source": [
        "v = array([1,2,3,4,5,6])\n",
        "print(v)\n",
        "result = var(v, ddof = 1)\n",
        "print(result)"
      ],
      "execution_count": 7,
      "outputs": [
        {
          "output_type": "stream",
          "text": [
            "[1 2 3 4 5 6]\n",
            "3.5\n"
          ],
          "name": "stdout"
        }
      ]
    },
    {
      "cell_type": "code",
      "metadata": {
        "colab": {
          "base_uri": "https://localhost:8080/"
        },
        "id": "iTDzDuaI74AL",
        "outputId": "6aa10320-fe19-4db5-d770-4cf42f4de5c3"
      },
      "source": [
        "M = array([[1,2,3,4,5,6],[1,2,3,4,5,6]])\n",
        "print(M)\n",
        "col_mean = var(M, ddof = 1, axis=0)\n",
        "print(col_mean)\n",
        "row_mean = var(M, ddof=1, axis=1)\n",
        "print(row_mean)"
      ],
      "execution_count": 10,
      "outputs": [
        {
          "output_type": "stream",
          "text": [
            "[[1 2 3 4 5 6]\n",
            " [1 2 3 4 5 6]]\n",
            "[0. 0. 0. 0. 0. 0.]\n",
            "[3.5 3.5]\n"
          ],
          "name": "stdout"
        }
      ]
    },
    {
      "cell_type": "markdown",
      "metadata": {
        "id": "sRWq3Oib-5y1"
      },
      "source": [
        "**Standard Deviation**"
      ]
    },
    {
      "cell_type": "code",
      "metadata": {
        "colab": {
          "base_uri": "https://localhost:8080/"
        },
        "id": "C4qrkYoK-_jy",
        "outputId": "565d99d0-b037-4c97-b8c2-b873b52df7fd"
      },
      "source": [
        "from numpy import std\n",
        "M1 = array([[1,2,3,4,5,6],[1,2,3,4,5,6]])\n",
        "print(M1)\n",
        "col_mean_std = std(M1, ddof = 1, axis = 0)\n",
        "print(col_mean_std)\n",
        "row_mean_std = std(M1, ddof = 1, axis = 1)\n",
        "print(row_mean_std)"
      ],
      "execution_count": 13,
      "outputs": [
        {
          "output_type": "stream",
          "text": [
            "[[1 2 3 4 5 6]\n",
            " [1 2 3 4 5 6]]\n",
            "[0. 0. 0. 0. 0. 0.]\n",
            "[1.87082869 1.87082869]\n"
          ],
          "name": "stdout"
        }
      ]
    }
  ]
}