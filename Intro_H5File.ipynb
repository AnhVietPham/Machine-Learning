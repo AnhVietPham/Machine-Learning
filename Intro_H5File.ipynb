{
  "nbformat": 4,
  "nbformat_minor": 0,
  "metadata": {
    "colab": {
      "name": "Intro-H5File.ipynb",
      "provenance": [],
      "collapsed_sections": [],
      "authorship_tag": "ABX9TyPDczoPD14oFNNQdh4XwZbO",
      "include_colab_link": true
    },
    "kernelspec": {
      "name": "python3",
      "display_name": "Python 3"
    },
    "language_info": {
      "name": "python"
    }
  },
  "cells": [
    {
      "cell_type": "markdown",
      "metadata": {
        "id": "view-in-github",
        "colab_type": "text"
      },
      "source": [
        "<a href=\"https://colab.research.google.com/github/AnhVietPham/Machine-Learning/blob/main/Intro_H5File.ipynb\" target=\"_parent\"><img src=\"https://colab.research.google.com/assets/colab-badge.svg\" alt=\"Open In Colab\"/></a>"
      ]
    },
    {
      "cell_type": "markdown",
      "metadata": {
        "id": "vwxeXc9lAomv"
      },
      "source": [
        "# **https://colab.research.google.com/github/astg606/py_materials/blob/master/science_data_format/introduction_h5py.ipynb**"
      ]
    },
    {
      "cell_type": "code",
      "metadata": {
        "id": "6syhy9p7AhPR"
      },
      "source": [
        "import os \n",
        "import datetime as dt\n",
        "import six\n",
        "import numpy as np\n",
        "import h5py"
      ],
      "execution_count": 49,
      "outputs": []
    },
    {
      "cell_type": "code",
      "metadata": {
        "id": "T1dg_NcyElBx"
      },
      "source": [
        "hdFileName = 'sample_h5.h5'\n",
        "modeType = 'w'\n",
        "hdfid = h5py.File(hdFileName, modeType)"
      ],
      "execution_count": 50,
      "outputs": []
    },
    {
      "cell_type": "code",
      "metadata": {
        "colab": {
          "base_uri": "https://localhost:8080/"
        },
        "id": "6fPhbcxyFJ02",
        "outputId": "08d045aa-0be2-40e6-e2a6-e50348155a6d"
      },
      "source": [
        "print(hdfid)\n",
        "comp = 9"
      ],
      "execution_count": 51,
      "outputs": [
        {
          "output_type": "stream",
          "text": [
            "<HDF5 file \"sample_h5.h5\" (mode r+)>\n"
          ],
          "name": "stdout"
        }
      ]
    },
    {
      "cell_type": "code",
      "metadata": {
        "id": "qOwun4wzFYs8"
      },
      "source": [
        "lat = np.arange(-90, 91, 2.0)\n",
        "dset = hdfid.require_dataset('lat', shape = lat.shape, \n",
        "                             dtype = np.float32, \n",
        "                             compression = 'gzip', \n",
        "                             compression_opts = comp)\n",
        "\n",
        "dset[...] = lat\n",
        "dset.attrs['name'] = 'latitude'\n",
        "dset.attrs['units'] = 'A'\n",
        "\n",
        "# =================================\n",
        "lon = np.arange(-180, 180,2.5)\n",
        "dset = hdfid.require_dataset('lon', shape=lon.shape, \n",
        "                             dtype = np.float32, \n",
        "                             compression = 'gzip', \n",
        "                             compression_opts = comp)\n",
        "\n",
        "dset[...] = lon\n",
        "dset.attrs['name'] = 'longtitue'\n",
        "dset.attrs['units'] = 'B'\n",
        "\n",
        "# ===================================\n",
        "lev = np.arange(0, 72, 1)\n",
        "dset = hdfid.require_dataset('lev', shape= lev.shape, \n",
        "                             dtype= np.int, \n",
        "                             compression='gzip', \n",
        "                             compression_opts =comp)\n",
        "\n",
        "dset[...] = lev\n",
        "dset.attrs.update({'name': 'Vertical level',\n",
        "                   'units': 'hPa'\n",
        "                   })\n",
        "\n",
        "\n",
        "# Time (Note the unlimied dimension)\n",
        "time = np.arange(0,1,1)\n",
        "dset = hdfid.require_dataset('time',shape = time.shape,\n",
        "                             maxshape = (None),\n",
        "                             dtype = np.float32, \n",
        "                             compression = comp)\n",
        "\n",
        "dset[...] = time\n",
        "dset.attrs['name'] = 'time'\n",
        "dset.attrs['units'] = 'hours since 2021-30-4'\n",
        "dset.attrs['calendar'] = 'gregorian'\n"
      ],
      "execution_count": 52,
      "outputs": []
    },
    {
      "cell_type": "code",
      "metadata": {
        "id": "MjQtctZDIjdi"
      },
      "source": [
        "nrecs = 5\n",
        "arr = np.zeros((nrecs, lev.size, lat.size, lon.size))\n",
        "arr[0:nrecs,:,:,:] = 300*np.random.uniform(size = (nrecs, lev.size, lat.size, lon.size))\n",
        "dset = hdfid.require_dataset('temp', shape = arr.shape, dtype = np.float32, compression = comp)\n",
        "\n",
        "\n",
        "dset[...] = arr\n",
        "dset.attrs['name'] = 'temperature'\n",
        "dset.attrs['units'] = 'K'\n"
      ],
      "execution_count": 53,
      "outputs": []
    },
    {
      "cell_type": "code",
      "metadata": {
        "id": "0bTLycP2DWUJ"
      },
      "source": [
        "arr2 = np.zeros((lat.size, lon.size))\n",
        "arr2[:,:] = np.random.random(size=(lat.size, lon.size))\n",
        "landfrac = hdfid.create_dataset('landfac', data = arr2, dtype = np.float32)\n",
        "landfrac.attrs['name'] = 'Fraction of land'\n",
        "landfrac.attrs['units'] = '1'"
      ],
      "execution_count": 54,
      "outputs": []
    },
    {
      "cell_type": "code",
      "metadata": {
        "id": "6ZOMW0e3D9_m"
      },
      "source": [
        "hdfid.attrs['Description'] = 'Anh Viet Pham Supper'\n",
        "hdfid.attrs['History']     = 'AVP Create for sample HD5 File'\n",
        "hdfid.attrs['Source']      = 'NASA AVP'\n",
        "hdfid.attrs['HDF5_Version'] = six.u(h5py.version.hdf5_version)\n",
        "hdfid.attrs['h5py_version'] = six.u(h5py.version.version)"
      ],
      "execution_count": 55,
      "outputs": []
    },
    {
      "cell_type": "code",
      "metadata": {
        "id": "OXt3_wQeEDwe"
      },
      "source": [
        "glob_attr = {'Date': dt.datetime.now().strftime(\"%m/%d/%Y, %H:%M:%S\"), \n",
        "            'User': 'AVP',}\n",
        "hdfid.attrs.update(glob_attr)"
      ],
      "execution_count": 56,
      "outputs": []
    },
    {
      "cell_type": "code",
      "metadata": {
        "id": "iM8Q3MWjEITu"
      },
      "source": [
        "import json\n",
        "\n",
        "metadata = {'Note-AVP': 'AVP LOAD METADATA', \n",
        "            'OS-AVP': os.name,}\n",
        "m = hdfid.create_dataset('meta-data-avp', data=json.dumps(metadata))"
      ],
      "execution_count": 57,
      "outputs": []
    },
    {
      "cell_type": "code",
      "metadata": {
        "colab": {
          "base_uri": "https://localhost:8080/"
        },
        "id": "CNhQqaM5K7hV",
        "outputId": "0b71fb4c-7a13-4e3a-8346-fa50ae3cc45c"
      },
      "source": [
        "for k in hdfid.attrs.keys():\n",
        "    print('{} => {}'.format(k, hdfid.attrs[k]))"
      ],
      "execution_count": 58,
      "outputs": [
        {
          "output_type": "stream",
          "text": [
            "Date => 05/01/2021, 00:06:38\n",
            "Description => Anh Viet Pham Supper\n",
            "HDF5_Version => 1.10.4\n",
            "History => AVP Create for sample HD5 File\n",
            "Source => NASA AVP\n",
            "User => AVP\n",
            "h5py_version => 2.10.0\n"
          ],
          "name": "stdout"
        }
      ]
    },
    {
      "cell_type": "code",
      "metadata": {
        "colab": {
          "base_uri": "https://localhost:8080/"
        },
        "id": "iLXEtoYtJvn5",
        "outputId": "c0fbbc07-903c-4a74-b8de-54676e409c8d"
      },
      "source": [
        "metadata_read = json.loads(hdfid['meta-data-avp'][()])\n",
        "for k in metadata_read:\n",
        "  print('{} => {}'.format(k, metadata_read[k]))"
      ],
      "execution_count": 59,
      "outputs": [
        {
          "output_type": "stream",
          "text": [
            "Note-AVP => AVP LOAD METADATA\n",
            "OS-AVP => posix\n"
          ],
          "name": "stdout"
        }
      ]
    },
    {
      "cell_type": "code",
      "metadata": {
        "id": "n4ewS4F4OiyW"
      },
      "source": [
        "hdfid.close()"
      ],
      "execution_count": 60,
      "outputs": []
    },
    {
      "cell_type": "code",
      "metadata": {
        "colab": {
          "resources": {
            "http://localhost:8080/nbextensions/google.colab/files.js": {
              "data": "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",
              "ok": true,
              "headers": [
                [
                  "content-type",
                  "application/javascript"
                ]
              ],
              "status": 200,
              "status_text": ""
            }
          },
          "base_uri": "https://localhost:8080/",
          "height": 73
        },
        "id": "Z4PGVqrhBWNP",
        "outputId": "7c18fd0a-ea87-4d91-fe31-6aeda4648977"
      },
      "source": [
        "from google.colab import files\n",
        "uploaded = files.upload()\n"
      ],
      "execution_count": 61,
      "outputs": [
        {
          "output_type": "display_data",
          "data": {
            "text/html": [
              "\n",
              "     <input type=\"file\" id=\"files-51ad0245-6f91-4994-99c0-052e2bafae06\" name=\"files[]\" multiple disabled\n",
              "        style=\"border:none\" />\n",
              "     <output id=\"result-51ad0245-6f91-4994-99c0-052e2bafae06\">\n",
              "      Upload widget is only available when the cell has been executed in the\n",
              "      current browser session. Please rerun this cell to enable.\n",
              "      </output>\n",
              "      <script src=\"/nbextensions/google.colab/files.js\"></script> "
            ],
            "text/plain": [
              "<IPython.core.display.HTML object>"
            ]
          },
          "metadata": {
            "tags": []
          }
        },
        {
          "output_type": "stream",
          "text": [
            "Saving DogBreedModel.h5 to DogBreedModel.h5\n"
          ],
          "name": "stdout"
        }
      ]
    },
    {
      "cell_type": "code",
      "metadata": {
        "colab": {
          "base_uri": "https://localhost:8080/"
        },
        "id": "P19OWdL0Cbzk",
        "outputId": "7e757deb-6b26-4df5-9e3a-b55e7bd77036"
      },
      "source": [
        "print(uploaded)"
      ],
      "execution_count": 62,
      "outputs": [
        {
          "output_type": "stream",
          "text": [
            "IOPub data rate exceeded.\n",
            "The notebook server will temporarily stop sending output\n",
            "to the client in order to avoid crashing it.\n",
            "To change this limit, set the config variable\n",
            "`--NotebookApp.iopub_data_rate_limit`.\n",
            "\n",
            "Current values:\n",
            "NotebookApp.iopub_data_rate_limit=1000000.0 (bytes/sec)\n",
            "NotebookApp.rate_limit_window=3.0 (secs)\n",
            "\n"
          ],
          "name": "stderr"
        }
      ]
    },
    {
      "cell_type": "code",
      "metadata": {
        "colab": {
          "base_uri": "https://localhost:8080/"
        },
        "id": "kERHP48XDVT5",
        "outputId": "ccc6aaae-c117-45bf-fbd9-a1f755aa512b"
      },
      "source": [
        "with h5py.File('/content/DogBreedModel.h5','r') as f:\n",
        "  f.visit(print)"
      ],
      "execution_count": 76,
      "outputs": [
        {
          "output_type": "stream",
          "text": [
            "model_weights\n",
            "model_weights/dense\n",
            "model_weights/dense/dense\n",
            "model_weights/dense/dense/bias:0\n",
            "model_weights/dense/dense/kernel:0\n",
            "model_weights/dropout\n",
            "optimizer_weights\n",
            "optimizer_weights/Adam\n",
            "optimizer_weights/Adam/dense\n",
            "optimizer_weights/Adam/dense/bias\n",
            "optimizer_weights/Adam/dense/bias/m:0\n",
            "optimizer_weights/Adam/dense/bias/v:0\n",
            "optimizer_weights/Adam/dense/kernel\n",
            "optimizer_weights/Adam/dense/kernel/m:0\n",
            "optimizer_weights/Adam/dense/kernel/v:0\n",
            "optimizer_weights/Adam/iter:0\n"
          ],
          "name": "stdout"
        }
      ]
    },
    {
      "cell_type": "code",
      "metadata": {
        "colab": {
          "base_uri": "https://localhost:8080/"
        },
        "id": "IYOTgWsjRzRR",
        "outputId": "bcfc2664-82df-403d-cdaa-5b69d1fdd87e"
      },
      "source": [
        "def my_func(name):\n",
        "    print(name, hf[name])\n",
        "\n",
        "with h5py.File('/content/DogBreedModel.h5', 'r') as hf:\n",
        "     hf.visit(my_func)"
      ],
      "execution_count": 77,
      "outputs": [
        {
          "output_type": "stream",
          "text": [
            "model_weights <HDF5 group \"/model_weights\" (2 members)>\n",
            "model_weights/dense <HDF5 group \"/model_weights/dense\" (1 members)>\n",
            "model_weights/dense/dense <HDF5 group \"/model_weights/dense/dense\" (2 members)>\n",
            "model_weights/dense/dense/bias:0 <HDF5 dataset \"bias:0\": shape (120,), type \"<f4\">\n",
            "model_weights/dense/dense/kernel:0 <HDF5 dataset \"kernel:0\": shape (6592, 120), type \"<f4\">\n",
            "model_weights/dropout <HDF5 group \"/model_weights/dropout\" (0 members)>\n",
            "optimizer_weights <HDF5 group \"/optimizer_weights\" (1 members)>\n",
            "optimizer_weights/Adam <HDF5 group \"/optimizer_weights/Adam\" (2 members)>\n",
            "optimizer_weights/Adam/dense <HDF5 group \"/optimizer_weights/Adam/dense\" (2 members)>\n",
            "optimizer_weights/Adam/dense/bias <HDF5 group \"/optimizer_weights/Adam/dense/bias\" (2 members)>\n",
            "optimizer_weights/Adam/dense/bias/m:0 <HDF5 dataset \"m:0\": shape (120,), type \"<f4\">\n",
            "optimizer_weights/Adam/dense/bias/v:0 <HDF5 dataset \"v:0\": shape (120,), type \"<f4\">\n",
            "optimizer_weights/Adam/dense/kernel <HDF5 group \"/optimizer_weights/Adam/dense/kernel\" (2 members)>\n",
            "optimizer_weights/Adam/dense/kernel/m:0 <HDF5 dataset \"m:0\": shape (6592, 120), type \"<f4\">\n",
            "optimizer_weights/Adam/dense/kernel/v:0 <HDF5 dataset \"v:0\": shape (6592, 120), type \"<f4\">\n",
            "optimizer_weights/Adam/iter:0 <HDF5 dataset \"iter:0\": shape (), type \"<i8\">\n"
          ],
          "name": "stdout"
        }
      ]
    },
    {
      "cell_type": "code",
      "metadata": {
        "colab": {
          "base_uri": "https://localhost:8080/"
        },
        "id": "MpIwFQdHSE1f",
        "outputId": "d2c834f6-a2b5-4e07-aef4-4071adc6fae9"
      },
      "source": [
        "def printall(name, obj):\n",
        "    print(name, dict(obj.attrs))\n",
        "\n",
        "with h5py.File('/content/DogBreedModel.h5', 'r') as hf:\n",
        "     hf.visititems(printall)"
      ],
      "execution_count": 78,
      "outputs": [
        {
          "output_type": "stream",
          "text": [
            "model_weights {'backend': b'tensorflow', 'keras_version': b'2.4.0', 'layer_names': array([b'dropout', b'dense'], dtype='|S7')}\n",
            "model_weights/dense {'weight_names': array([b'dense/kernel:0', b'dense/bias:0'], dtype='|S14')}\n",
            "model_weights/dense/dense {}\n",
            "model_weights/dense/dense/bias:0 {}\n",
            "model_weights/dense/dense/kernel:0 {}\n",
            "model_weights/dropout {'weight_names': array([], dtype=float64)}\n",
            "optimizer_weights {'weight_names': array([b'Adam/iter:0', b'Adam/dense/kernel/m:0', b'Adam/dense/bias/m:0',\n",
            "       b'Adam/dense/kernel/v:0', b'Adam/dense/bias/v:0'], dtype='|S21')}\n",
            "optimizer_weights/Adam {}\n",
            "optimizer_weights/Adam/dense {}\n",
            "optimizer_weights/Adam/dense/bias {}\n",
            "optimizer_weights/Adam/dense/bias/m:0 {}\n",
            "optimizer_weights/Adam/dense/bias/v:0 {}\n",
            "optimizer_weights/Adam/dense/kernel {}\n",
            "optimizer_weights/Adam/dense/kernel/m:0 {}\n",
            "optimizer_weights/Adam/dense/kernel/v:0 {}\n",
            "optimizer_weights/Adam/iter:0 {}\n"
          ],
          "name": "stdout"
        }
      ]
    },
    {
      "cell_type": "code",
      "metadata": {
        "colab": {
          "base_uri": "https://localhost:8080/"
        },
        "id": "GLCkaCAtRMcg",
        "outputId": "6a7bf1cf-67ea-481a-ad21-1cd74b26e8d0"
      },
      "source": [
        "def printall(name, obj):\n",
        "    if isinstance(obj, h5py.Group):\n",
        "        print(name, \" is a Group\")\n",
        "    elif isinstance(obj, h5py.Dataset):\n",
        "        print(name, \" is a Dataset\")\n",
        "    else:\n",
        "        print(name, \" is of an unknown type\")\n",
        "\n",
        "with h5py.File('/content/DogBreedModel.h5', 'r') as hf:\n",
        "     hf.visititems(printall)"
      ],
      "execution_count": 80,
      "outputs": [
        {
          "output_type": "stream",
          "text": [
            "model_weights  is a Group\n",
            "model_weights/dense  is a Group\n",
            "model_weights/dense/dense  is a Group\n",
            "model_weights/dense/dense/bias:0  is a Dataset\n",
            "model_weights/dense/dense/kernel:0  is a Dataset\n",
            "model_weights/dropout  is a Group\n",
            "optimizer_weights  is a Group\n",
            "optimizer_weights/Adam  is a Group\n",
            "optimizer_weights/Adam/dense  is a Group\n",
            "optimizer_weights/Adam/dense/bias  is a Group\n",
            "optimizer_weights/Adam/dense/bias/m:0  is a Dataset\n",
            "optimizer_weights/Adam/dense/bias/v:0  is a Dataset\n",
            "optimizer_weights/Adam/dense/kernel  is a Group\n",
            "optimizer_weights/Adam/dense/kernel/m:0  is a Dataset\n",
            "optimizer_weights/Adam/dense/kernel/v:0  is a Dataset\n",
            "optimizer_weights/Adam/iter:0  is a Dataset\n"
          ],
          "name": "stdout"
        }
      ]
    }
  ]
}